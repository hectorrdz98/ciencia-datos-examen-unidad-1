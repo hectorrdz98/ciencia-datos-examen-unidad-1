{
 "cells": [
  {
   "cell_type": "code",
   "execution_count": 1,
   "id": "infinite-shakespeare",
   "metadata": {},
   "outputs": [
    {
     "name": "stdout",
     "output_type": "stream",
     "text": [
      "<class 'int'>\n",
      "<class 'float'>\n",
      "<class 'str'>\n",
      "<class 'bool'>\n",
      "<class 'function'>\n"
     ]
    }
   ],
   "source": [
    "def add(n1, n2):\n",
    "    return n1 + n2\n",
    "\n",
    "type1 = 2\n",
    "type2 = 3.4\n",
    "type3 = 'Hola'\n",
    "type4 = True\n",
    "type5 = add\n",
    "\n",
    "print(type(type1))\n",
    "print(type(type2))\n",
    "print(type(type3))\n",
    "print(type(type4))\n",
    "print(type(type5))"
   ]
  },
  {
   "cell_type": "code",
   "execution_count": 2,
   "id": "owned-briefing",
   "metadata": {},
   "outputs": [],
   "source": [
    "def multiply(n1, n2, n3 = None):\n",
    "    if n3:\n",
    "        return n1 * n2 * n3\n",
    "    else:\n",
    "        return n1 * n2"
   ]
  },
  {
   "cell_type": "code",
   "execution_count": 3,
   "id": "aboriginal-fifth",
   "metadata": {},
   "outputs": [
    {
     "name": "stdout",
     "output_type": "stream",
     "text": [
      "9\n",
      "27\n"
     ]
    }
   ],
   "source": [
    "multiplytwo = multiply\n",
    "multiplythree = multiply\n",
    "\n",
    "print(multiplytwo(3, 3))\n",
    "print(multiplythree(3, 3, 3))"
   ]
  },
  {
   "cell_type": "code",
   "execution_count": 4,
   "id": "acoustic-circulation",
   "metadata": {},
   "outputs": [],
   "source": [
    "mytuple = (3, 6, 9, 12, 15)"
   ]
  },
  {
   "cell_type": "code",
   "execution_count": 5,
   "id": "broad-theme",
   "metadata": {},
   "outputs": [
    {
     "name": "stdout",
     "output_type": "stream",
     "text": [
      "3\n",
      "6\n",
      "9\n",
      "12\n",
      "15\n"
     ]
    }
   ],
   "source": [
    "for item in mytuple:\n",
    "    print(item)"
   ]
  },
  {
   "cell_type": "code",
   "execution_count": 6,
   "id": "forbidden-superintendent",
   "metadata": {},
   "outputs": [],
   "source": [
    "mylist = [2, 4, 6, 8, 10, 12]"
   ]
  },
  {
   "cell_type": "code",
   "execution_count": 7,
   "id": "hollow-costa",
   "metadata": {},
   "outputs": [
    {
     "name": "stdout",
     "output_type": "stream",
     "text": [
      "2\n",
      "4\n",
      "6\n",
      "8\n",
      "10\n",
      "12\n"
     ]
    }
   ],
   "source": [
    "for item in mylist:\n",
    "    print(item)"
   ]
  },
  {
   "cell_type": "code",
   "execution_count": 8,
   "id": "superior-arrival",
   "metadata": {},
   "outputs": [
    {
     "name": "stdout",
     "output_type": "stream",
     "text": [
      "2\n"
     ]
    }
   ],
   "source": [
    "print(min(mylist))"
   ]
  },
  {
   "cell_type": "code",
   "execution_count": 9,
   "id": "electronic-hypothetical",
   "metadata": {},
   "outputs": [
    {
     "name": "stdout",
     "output_type": "stream",
     "text": [
      "12\n"
     ]
    }
   ],
   "source": [
    "print(max(mylist))"
   ]
  },
  {
   "cell_type": "code",
   "execution_count": 10,
   "id": "plastic-mercy",
   "metadata": {},
   "outputs": [
    {
     "name": "stdout",
     "output_type": "stream",
     "text": [
      "[2, 4, 6, 8, 10, 12, 14, 16, 18]\n"
     ]
    }
   ],
   "source": [
    "mylist.append(14)\n",
    "mylist.append(16)\n",
    "mylist.append(18)\n",
    "\n",
    "print(mylist)"
   ]
  },
  {
   "cell_type": "code",
   "execution_count": 11,
   "id": "united-patio",
   "metadata": {},
   "outputs": [
    {
     "name": "stdout",
     "output_type": "stream",
     "text": [
      "2\n"
     ]
    }
   ],
   "source": [
    "print(mylist[0])"
   ]
  },
  {
   "cell_type": "code",
   "execution_count": 12,
   "id": "ordinary-smooth",
   "metadata": {},
   "outputs": [
    {
     "name": "stdout",
     "output_type": "stream",
     "text": [
      "['Hola,', 'este', 'es', 'un', 'string', 'de', 'prueba']\n"
     ]
    }
   ],
   "source": [
    "mystring = 'Hola, este es un string de prueba'\n",
    "print(mystring.split(' '))"
   ]
  }
 ],
 "metadata": {
  "kernelspec": {
   "display_name": "Python 3",
   "language": "python",
   "name": "python3"
  },
  "language_info": {
   "codemirror_mode": {
    "name": "ipython",
    "version": 3
   },
   "file_extension": ".py",
   "mimetype": "text/x-python",
   "name": "python",
   "nbconvert_exporter": "python",
   "pygments_lexer": "ipython3",
   "version": "3.6.9"
  }
 },
 "nbformat": 4,
 "nbformat_minor": 5
}
